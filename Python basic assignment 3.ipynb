{
 "cells": [
  {
   "cell_type": "raw",
   "id": "86dc4cb1",
   "metadata": {},
   "source": [
    "1. Why are functions advantageous to have in your programs?\n",
    "Answer: Functions are advantageous to have in the program because it can be called any number of time inside the program thereby avoiding the rewrite of entire code."
   ]
  },
  {
   "cell_type": "raw",
   "id": "6fa45701",
   "metadata": {},
   "source": [
    "2. When does the code in a function run: when it's specified or when it's called?\n",
    "Answer: The code in a function run when it is called."
   ]
  },
  {
   "cell_type": "raw",
   "id": "9d268a61",
   "metadata": {},
   "source": [
    "3. What statement creates a function?\n",
    "Answer: def statement creates a function."
   ]
  },
  {
   "cell_type": "raw",
   "id": "ca1f9eab",
   "metadata": {},
   "source": [
    "4. What is the difference between a function and a function call?\n",
    "Answer: A function have an entire program written in it with the help of def statement\n",
    "A function call can use that entire program written inside the function with the call of a function name & it returns the value of that function."
   ]
  },
  {
   "cell_type": "raw",
   "id": "3a0503e8",
   "metadata": {},
   "source": [
    "5. How many global scopes are there in a Python program? How many local scopes?\n",
    "Answer: There is one global scope, and a local scope is created whenever a function is called."
   ]
  },
  {
   "cell_type": "raw",
   "id": "0df01321",
   "metadata": {},
   "source": [
    "6. What happens to variables in a local scope when the function call returns?\n",
    "Answer: When a function returns, the local scope is destroyed, and all the variables in it are forgotten."
   ]
  },
  {
   "cell_type": "raw",
   "id": "1aa304ec",
   "metadata": {},
   "source": [
    "7. What is the concept of a return value? Is it possible to have a return value in an expression?\n",
    "Answer: A return value evaluate and gives the result of code written. yes, it is possible to have a return value in an expression"
   ]
  },
  {
   "cell_type": "raw",
   "id": "f0e91e91",
   "metadata": {},
   "source": [
    "8. If a function does not have a return statement, what is the return value of a call to that function?\n",
    "Answer: If there is no return statement for a function, its return value is None."
   ]
  },
  {
   "cell_type": "raw",
   "id": "fd37770e",
   "metadata": {},
   "source": [
    "9. How do you make a function variable refer to the global variable?\n",
    "Answer: A global statement will force a variable in a function to refer to the global variable."
   ]
  },
  {
   "cell_type": "raw",
   "id": "ecd4da05",
   "metadata": {},
   "source": [
    "10. What is the data type of None?\n",
    "Answer: The data type of None is NoneType."
   ]
  },
  {
   "cell_type": "raw",
   "id": "f44a8d17",
   "metadata": {},
   "source": [
    "11. What does the sentence import areallyourpetsnamederic do?\n",
    "Answer: That import statement imports a module named areallyourpetsnamederic.\n"
   ]
  },
  {
   "cell_type": "raw",
   "id": "db8d787e",
   "metadata": {},
   "source": [
    "12. If you had a bacon() feature in a spam module, what would you call it after importing spam?\n",
    "Answer: This function can be called with spam.bacon()."
   ]
  },
  {
   "cell_type": "raw",
   "id": "49e48d96",
   "metadata": {},
   "source": [
    "13. What can you do to save a programme from crashing if it encounters an error?\n",
    "Answer: We can write the code in try clause in order to save it from crashing if it encounters an error."
   ]
  },
  {
   "cell_type": "raw",
   "id": "72149d3c",
   "metadata": {},
   "source": [
    "14. What is the purpose of the try clause? What is the purpose of the except clause?\n",
    "Answer: The purpose of try clause is to save the program from crashing if it faces an error in try clause. The purpose of except clause is to give an indication that the try clause is failed and it executes the except clause."
   ]
  }
 ],
 "metadata": {
  "kernelspec": {
   "display_name": "Python 3 (ipykernel)",
   "language": "python",
   "name": "python3"
  },
  "language_info": {
   "codemirror_mode": {
    "name": "ipython",
    "version": 3
   },
   "file_extension": ".py",
   "mimetype": "text/x-python",
   "name": "python",
   "nbconvert_exporter": "python",
   "pygments_lexer": "ipython3",
   "version": "3.9.7"
  }
 },
 "nbformat": 4,
 "nbformat_minor": 5
}
