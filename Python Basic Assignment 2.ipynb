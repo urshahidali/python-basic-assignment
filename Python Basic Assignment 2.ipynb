{
 "cells": [
  {
   "cell_type": "raw",
   "id": "dc615cb2",
   "metadata": {},
   "source": [
    "1.What are the two values of the Boolean data type? How do you write them?\n",
    "Answer : The two values of Boolean data type are True and False. It can be written as First character in Uppercase and rest other characters in Lower case."
   ]
  },
  {
   "cell_type": "raw",
   "id": "efdcfcd1",
   "metadata": {},
   "source": [
    "2. What are the three different types of Boolean operators?\n",
    "Answer : The three different type of Boolean Operator are as follows:\n",
    "        1. AND Operator \n",
    "        2. OR operator\n",
    "        3. NOT Operator"
   ]
  },
  {
   "cell_type": "raw",
   "id": "75485e60",
   "metadata": {},
   "source": [
    "3. Make a list of each Boolean operator& truth tables (i.e. every possible combination of Boolean\n",
    "values for the operator and what it evaluate ).\n",
    "Answer : True and True = True.\n",
    "\n",
    "True and False = False.\n",
    "\n",
    "False and True = False.\n",
    "\n",
    "False and False = False.\n",
    "\n",
    "True or True = True.\n",
    "\n",
    "True or False = True.\n",
    "\n",
    "False or True = True.\n",
    "\n",
    "False or False = False.\n",
    "\n",
    "Not True = False.\n",
    "\n",
    "Not False = True."
   ]
  },
  {
   "cell_type": "raw",
   "id": "9effb085",
   "metadata": {},
   "source": [
    "4. What are the values of the following expressions?\n",
    "Answer : (5 > 4) and (3 == 5) = False\n",
    "not (5 > 4) = False\n",
    "(5 > 4) or (3 == 5) = True\n",
    "not ((5 > 4) or (3 == 5)) = False\n",
    "(True and True) and (True == False) = False\n",
    "(not False) or (not True) = True"
   ]
  },
  {
   "cell_type": "raw",
   "id": "25791514",
   "metadata": {},
   "source": [
    "5. What are the six comparison operators?\n",
    "Answer : less than (<)\n",
    "greater than (>)\n",
    "less than or equal to (<=)\n",
    "greater than or equal to (>=)\n",
    "equal to (==)\n",
    "not equal to (!=)"
   ]
  },
  {
   "cell_type": "raw",
   "id": "5122562e",
   "metadata": {},
   "source": [
    "6. How do you tell the difference between the equal to and assignment operators?Describe a\n",
    "condition and when you would use one.\n",
    "Answer : Equal to operator is given by symbol == . It is used to check whether two condition is equal or not.\n",
    "while assignment operator is given by = . It is used to assign value to a variable.\n",
    "For Eg:\n",
    "Equal operator (10 == 5) \n",
    "Assignment operator (a = 5)\n"
   ]
  },
  {
   "cell_type": "raw",
   "id": "13351734",
   "metadata": {},
   "source": [
    "7. Identify the three blocks in this code:\n",
    "spam = 0\n",
    "if spam == 10:\n",
    "print(\"eggs\")\n",
    "if spam > 5:\n",
    "print(\"bacon\")\n",
    "else:\n",
    "print(\"ham\")\n",
    "print(\"spam\")\n",
    "print(\"spam\")\n",
    "Answer : The three blocks in the above question is under if else statement.\n",
    "First statement will print eggs if the condition satisfies.\n",
    "Second statement will print bacon if the condition satisfies.\n",
    "Third statement will print (ham, spam,spam) if the condition satisfies."
   ]
  },
  {
   "cell_type": "raw",
   "id": "f0e65b5e",
   "metadata": {},
   "source": [
    "\"\"\"8. Write code that prints Hello if 1 is stored in spam, prints Howdy if 2 is stored in spam, and prints\n",
    "Greetings! if anything else is stored in spam.\"\"\"\n",
    "spam = int (input ())\n",
    "if spam == 1 :\n",
    "    print (\"Hello\")\n",
    "elif spam == 2 :\n",
    "    print (\"Howdy\")\n",
    "else :\n",
    "    print (\"Greetings!\")\n"
   ]
  },
  {
   "cell_type": "raw",
   "id": "4943ed1f",
   "metadata": {},
   "source": [
    "9.If your programme is stuck in an endless loop, what keys you’ll press?\n",
    "Answer : CTRL+C is the key to stop the program stuck in an infinite loop."
   ]
  },
  {
   "cell_type": "raw",
   "id": "84e8b04a",
   "metadata": {},
   "source": [
    "10. How can you tell the difference between break and continue?\n",
    "Answer : 1. The break statement will move the execution outside and just after a loop. The continue statement will move the execution to the start of the loop.\n",
    "\n",
    "2. whenever break statement executed then else block will not be executed whereas In continue ,all the time else block is executed."
   ]
  },
  {
   "cell_type": "raw",
   "id": "ed8879fb",
   "metadata": {},
   "source": [
    "11. In a for loop, what is the difference between range(10), range(0, 10), and range(0, 10, 1)?\n",
    "Answer : They all do the same thing. The range(10) call ranges from 0 up to (but not including) 10, range(0, 10) explicitly tells the loop to start at 0, and range(0, 10, 1) explicitly tells the loop to increase the variable by 1 on each iteration."
   ]
  },
  {
   "cell_type": "raw",
   "id": "511e9bf1",
   "metadata": {},
   "source": [
    "\"\"\"12. Write a short program that prints the numbers 1 to 10 using a for loop. Then write an equivalent\n",
    "program that prints the numbers 1 to 10 using a while loop\"\"\"\n",
    "Answer : For loop :\n",
    "for i in range (11):\n",
    "    print(i)\n",
    "    \n",
    "While loop :    \n",
    "i = 1\n",
    "while i <= 10:\n",
    "    print(i)\n",
    "    i = i + 1"
   ]
  },
  {
   "cell_type": "raw",
   "id": "0c7530a9",
   "metadata": {},
   "source": [
    "13. If you had a function named bacon() inside a module named spam, how would you call it after\n",
    "importing spam?\n",
    "Answer : This function can be called with spam.bacon()."
   ]
  }
 ],
 "metadata": {
  "kernelspec": {
   "display_name": "Python 3 (ipykernel)",
   "language": "python",
   "name": "python3"
  },
  "language_info": {
   "codemirror_mode": {
    "name": "ipython",
    "version": 3
   },
   "file_extension": ".py",
   "mimetype": "text/x-python",
   "name": "python",
   "nbconvert_exporter": "python",
   "pygments_lexer": "ipython3",
   "version": "3.9.7"
  }
 },
 "nbformat": 4,
 "nbformat_minor": 5
}
