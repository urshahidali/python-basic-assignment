{
 "cells": [
  {
   "cell_type": "raw",
   "id": "71a9de8d",
   "metadata": {},
   "source": [
    "#1. What exactly is []?\n",
    "Answer: This is an empty list which doesn't contain any value in it."
   ]
  },
  {
   "cell_type": "raw",
   "id": "5c0bd95a",
   "metadata": {},
   "source": [
    "2. In a list of values stored in a variable called spam, how would you assign the value 'hello' as the\n",
    "third value? (Assume [2, 4, 6, 8, 10] are in spam.)\n",
    "Answer: "
   ]
  },
  {
   "cell_type": "code",
   "execution_count": 40,
   "id": "f4dcd83a",
   "metadata": {},
   "outputs": [],
   "source": [
    "spam = [2, 4, 6, 8, 10]"
   ]
  },
  {
   "cell_type": "code",
   "execution_count": 41,
   "id": "a8dc8398",
   "metadata": {},
   "outputs": [],
   "source": [
    "spam.insert(2,'hello')"
   ]
  },
  {
   "cell_type": "code",
   "execution_count": 42,
   "id": "9435e7ad",
   "metadata": {},
   "outputs": [
    {
     "data": {
      "text/plain": [
       "[2, 4, 'hello', 6, 8, 10]"
      ]
     },
     "execution_count": 42,
     "metadata": {},
     "output_type": "execute_result"
    }
   ],
   "source": [
    "spam"
   ]
  },
  {
   "cell_type": "code",
   "execution_count": null,
   "id": "70a0ceab",
   "metadata": {},
   "outputs": [],
   "source": [
    "#Let's pretend the spam includes the list ['a', 'b', 'c', 'd'] for the next three queries."
   ]
  },
  {
   "cell_type": "raw",
   "id": "8b997f62",
   "metadata": {},
   "source": [
    "spam = ['a', 'b', 'c', 'd']"
   ]
  },
  {
   "cell_type": "code",
   "execution_count": 16,
   "id": "168b11e2",
   "metadata": {},
   "outputs": [
    {
     "data": {
      "text/plain": [
       "'d'"
      ]
     },
     "execution_count": 16,
     "metadata": {},
     "output_type": "execute_result"
    }
   ],
   "source": [
    "#3. What is the value of spam[int(int('3' * 2) / 11)]?\n",
    "spam[int(int('3' * 2) / 11)] "
   ]
  },
  {
   "cell_type": "code",
   "execution_count": 17,
   "id": "f3891dc4",
   "metadata": {},
   "outputs": [
    {
     "data": {
      "text/plain": [
       "'d'"
      ]
     },
     "execution_count": 17,
     "metadata": {},
     "output_type": "execute_result"
    }
   ],
   "source": [
    "#4. What is the value of spam[-1]?\n",
    "spam [-1]"
   ]
  },
  {
   "cell_type": "code",
   "execution_count": 18,
   "id": "f1d96f1e",
   "metadata": {},
   "outputs": [
    {
     "data": {
      "text/plain": [
       "['a', 'b']"
      ]
     },
     "execution_count": 18,
     "metadata": {},
     "output_type": "execute_result"
    }
   ],
   "source": [
    "#5. What is the value of spam[:2]?\n",
    "spam[:2]"
   ]
  },
  {
   "cell_type": "raw",
   "id": "081005c9",
   "metadata": {},
   "source": [
    "Let's pretend bacon has the list [3.14, 'cat,' 11, 'cat,' True] for the next three questions."
   ]
  },
  {
   "cell_type": "code",
   "execution_count": 21,
   "id": "3985ac42",
   "metadata": {},
   "outputs": [],
   "source": [
    "bacon = [3.14, 'cat', 11, 'cat', True]"
   ]
  },
  {
   "cell_type": "code",
   "execution_count": 22,
   "id": "41aecaea",
   "metadata": {},
   "outputs": [
    {
     "data": {
      "text/plain": [
       "1"
      ]
     },
     "execution_count": 22,
     "metadata": {},
     "output_type": "execute_result"
    }
   ],
   "source": [
    "#6. What is the value of bacon.index('cat')?\n",
    "bacon.index('cat')"
   ]
  },
  {
   "cell_type": "code",
   "execution_count": 31,
   "id": "9f8392cb",
   "metadata": {},
   "outputs": [
    {
     "data": {
      "text/plain": [
       "[3.14, 'cat', 11, 'cat', True, 99, 99]"
      ]
     },
     "execution_count": 31,
     "metadata": {},
     "output_type": "execute_result"
    }
   ],
   "source": [
    "#7. How does bacon.append(99) change the look of the list value in bacon?\n",
    "bacon.append(99)\n",
    "bacon"
   ]
  },
  {
   "cell_type": "code",
   "execution_count": 32,
   "id": "52e3d9d8",
   "metadata": {},
   "outputs": [
    {
     "data": {
      "text/plain": [
       "[3.14, 11, 'cat', True, 99, 99]"
      ]
     },
     "execution_count": 32,
     "metadata": {},
     "output_type": "execute_result"
    }
   ],
   "source": [
    "#8. How does bacon.remove('cat') change the look of the list in bacon?\n",
    "bacon.remove('cat')\n",
    "bacon\n"
   ]
  },
  {
   "cell_type": "raw",
   "id": "f1730cd5",
   "metadata": {},
   "source": [
    "9. What are the list concatenation and list replication operators?\n",
    "Answer: The operator for list concatenation is +, while the operator for replication is *."
   ]
  },
  {
   "cell_type": "raw",
   "id": "e24c37d5",
   "metadata": {},
   "source": [
    "10. What is difference between the list methods append() and insert()?\n",
    "Answer:The list method append any item at the last index whereas insert method ask the index and insert it at that particular index by shifting the present item towards right side."
   ]
  },
  {
   "cell_type": "raw",
   "id": "9f1fe7b3",
   "metadata": {},
   "source": [
    "11. What are the two methods for removing items from a list?\n",
    "Answer: The delete and remove are the two methods for removing items from a list"
   ]
  },
  {
   "cell_type": "raw",
   "id": "380071da",
   "metadata": {},
   "source": [
    "12. Describe how list values and string values are identical.\n",
    "Answer: 1. Both lists and strings can be passed to len()\n",
    "2. Have indexes and slices\n",
    "3. Can be used in for loops\n",
    "4. Can be concatenated or replicated\n",
    "5. Can be used with the in and not in operators"
   ]
  },
  {
   "cell_type": "raw",
   "id": "aaad79cf",
   "metadata": {},
   "source": [
    "13. What's the difference between tuples and lists?\n",
    "Answer: Lists are mutable data types, they can have values added, removed, or changed. Tuples are immutable data types they cannot be changed at all. Also, tuples are written using parentheses, ( ), while lists use the square brackets, [ ]."
   ]
  },
  {
   "cell_type": "code",
   "execution_count": 36,
   "id": "05c63e7f",
   "metadata": {},
   "outputs": [
    {
     "data": {
      "text/plain": [
       "tuple"
      ]
     },
     "execution_count": 36,
     "metadata": {},
     "output_type": "execute_result"
    }
   ],
   "source": [
    "#14.How do you type a tuple value that only contains the integer 42?\n",
    "a = (42,)\n",
    "type(a)"
   ]
  },
  {
   "cell_type": "code",
   "execution_count": 37,
   "id": "c9df2ddd",
   "metadata": {},
   "outputs": [
    {
     "name": "stdout",
     "output_type": "stream",
     "text": [
      "List to tuple  (45, 6, 65, 65, 98, 'shah')\n",
      "Tuple to list  [45, 6, 65, 65, 98, 'shah']\n"
     ]
    }
   ],
   "source": [
    "#15. How do you get a list value's tuple form? How do you get a tuple value's list form?\n",
    "l = [45,6,65,65,98,\"shah\"]\n",
    "print(\"List to tuple \",tuple(l))\n",
    "\n",
    "t = (45,6,65,65,98,\"shah\")\n",
    "print(\"Tuple to list \",list(t))"
   ]
  },
  {
   "cell_type": "raw",
   "id": "0a9b2879",
   "metadata": {},
   "source": [
    "16. Variables that \"contain\" list values are not necessarily lists themselves. Instead, what do they contain?\n",
    "Answer: They contain references to list values. whenever the variable is called it gives back the entire list."
   ]
  },
  {
   "cell_type": "raw",
   "id": "b493ce9d",
   "metadata": {},
   "source": [
    "17. How do you distinguish between copy.copy() and copy.deepcopy()?\n",
    "Answer: The copy.copy() function will do a shallow copy of a list, while the copy.deepcopy() function will do a deep copy of a list. That is, only copy.deepcopy() will duplicate any lists inside the list."
   ]
  }
 ],
 "metadata": {
  "kernelspec": {
   "display_name": "Python 3 (ipykernel)",
   "language": "python",
   "name": "python3"
  },
  "language_info": {
   "codemirror_mode": {
    "name": "ipython",
    "version": 3
   },
   "file_extension": ".py",
   "mimetype": "text/x-python",
   "name": "python",
   "nbconvert_exporter": "python",
   "pygments_lexer": "ipython3",
   "version": "3.9.7"
  }
 },
 "nbformat": 4,
 "nbformat_minor": 5
}
