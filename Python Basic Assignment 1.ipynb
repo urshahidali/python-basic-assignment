{
 "cells": [
  {
   "cell_type": "raw",
   "id": "bacd76c8",
   "metadata": {},
   "source": [
    "1. In the below elements which of them are values or an expression? eg:- values can be\n",
    "integer or string and expressions will be mathematical operators.\n",
    "Answer:\n",
    "* - (Expression)\n",
    "'hello'- (Values)\n",
    "-87.8 - (Values)\n",
    "- - (Expression)\n",
    "/ - (Expression)\n",
    "+ - (Expression)\n",
    "6 - (Values)"
   ]
  },
  {
   "cell_type": "raw",
   "id": "3faa0c6b",
   "metadata": {},
   "source": [
    "2. What is the difference between string and variable?\n",
    "Answer:\n",
    "A string is a type of Data made up of characters that can be stored inside a variable whereas the variable is something that stores a different types of inside it.\n",
    "Eg: String - \"Hello Programmer\"\n",
    "    Variable - (string, float, integer, Boolean)\n",
    "\n",
    "\n"
   ]
  },
  {
   "cell_type": "raw",
   "id": "3beb7b66",
   "metadata": {},
   "source": [
    "3. Describe three different data types.\n",
    "Answer:\n",
    "1. String - \"Hello World\"\n",
    "2. Integer - 456\n",
    "3. Float - 45.6\n",
    "4. Boolean - True , False\n",
    "5. Complex - 45+6j"
   ]
  },
  {
   "cell_type": "raw",
   "id": "777a9d28",
   "metadata": {},
   "source": [
    "4. What is an expression made up of? What do all expressions do?\n",
    "Answer:\n",
    "An expression is generally a combination of Variable, Operator & Constant Value. The expression evaluate and find a value.\n",
    "For Eg: a = 10\n",
    "        b = 15\n",
    "        a+b = 25\n"
   ]
  },
  {
   "cell_type": "raw",
   "id": "b4315a08",
   "metadata": {},
   "source": [
    "5. This assignment statements, like spam = 10. What is the difference between an\n",
    "expression and a statement?\n",
    "Answer:\n",
    "An expression is generally a combination of Variable, Operator & Constant Value that yields a result value. The assignment statement is used assign a value to a particular variable & it does not produce any result."
   ]
  },
  {
   "cell_type": "raw",
   "id": "27116dd0",
   "metadata": {},
   "source": [
    "6. After running the following code, what does the variable bacon contain?\n",
    "bacon = 22\n",
    "bacon + 1\n",
    "Answer:\n",
    "The Variable bacon + 1 gives a value of 23.\n"
   ]
  },
  {
   "cell_type": "raw",
   "id": "759b7718",
   "metadata": {},
   "source": [
    "7. What should the values of the following two terms be?\n",
    "'spam'+'spamspam'\n",
    "'spam'*3\n",
    "Answer:\n",
    "'spam'+'spamspam' = 'spamspamspam'\n",
    "'spam'*3 = 'spamspamspam'"
   ]
  },
  {
   "cell_type": "raw",
   "id": "7764f525",
   "metadata": {},
   "source": [
    "8. Why is eggs a valid variable name while 100 is invalid?\n",
    "Answer:\n",
    "Because a variable cannot start with an integer that is why it is invalid. "
   ]
  },
  {
   "cell_type": "raw",
   "id": "eb92e404",
   "metadata": {},
   "source": [
    "9. What three functions can be used to get the integer, floating-point number, or string\n",
    "version of a value?\n",
    "Answer:\n",
    "integer = int()\n",
    "floating-point number = float()\n",
    "string = str()\n"
   ]
  },
  {
   "cell_type": "raw",
   "id": "59c439f9",
   "metadata": {},
   "source": [
    "10. Why does this expression cause an error? How can you fix it?\n",
    "'I have eaten'+99+'burritos'\n",
    "Answer:\n",
    "This expression cause an error because it cannot concatenate string and integer. To fix it, we need to do the type casting of it.\n",
    "'I have eaten'+str(99)+'burritos'\n",
    "\n"
   ]
  }
 ],
 "metadata": {
  "kernelspec": {
   "display_name": "Python 3 (ipykernel)",
   "language": "python",
   "name": "python3"
  },
  "language_info": {
   "codemirror_mode": {
    "name": "ipython",
    "version": 3
   },
   "file_extension": ".py",
   "mimetype": "text/x-python",
   "name": "python",
   "nbconvert_exporter": "python",
   "pygments_lexer": "ipython3",
   "version": "3.9.7"
  }
 },
 "nbformat": 4,
 "nbformat_minor": 5
}
